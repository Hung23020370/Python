{
 "cells": [
  {
   "cell_type": "code",
   "execution_count": 27,
   "metadata": {},
   "outputs": [],
   "source": [
    "import pandas as pd\n",
    "import matplotlib.pyplot as plt\n",
    "from statsmodels.tsa.arima.model import ARIMA\n",
    "from statsmodels.tsa.stattools import adfuller\n",
    "\n",
    "df = pd.read_csv(r'E:\\Python\\Python\\Data\\Clean_Data.csv')\n",
    "\n",
    "df['Created At'] = pd.to_datetime(df['Created At'])\n",
    "\n",
    "df.set_index('Created At', inplace=True)\n",
    "\n",
    "df_day1 = df.resample('D').size().reset_index(name = 'Pull requests')\n",
    "\n",
    "df_day2 = df.resample('2D').size().reset_index(name = 'Pull requests')\n",
    "\n",
    "df_day1.to_csv('Data_day1.csv', index=False)\n",
    "\n",
    "df_day2.to_csv('Data_day2.csv', index=False)\n"
   ]
  }
 ],
 "metadata": {
  "kernelspec": {
   "display_name": "base",
   "language": "python",
   "name": "python3"
  },
  "language_info": {
   "codemirror_mode": {
    "name": "ipython",
    "version": 3
   },
   "file_extension": ".py",
   "mimetype": "text/x-python",
   "name": "python",
   "nbconvert_exporter": "python",
   "pygments_lexer": "ipython3",
   "version": "3.11.7"
  }
 },
 "nbformat": 4,
 "nbformat_minor": 2
}
