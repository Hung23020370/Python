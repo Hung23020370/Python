{
 "cells": [
  {
   "cell_type": "code",
   "execution_count": 2,
   "metadata": {},
   "outputs": [],
   "source": [
    "import pandas as pd\n",
    "import numpy as np\n",
    "\n",
    "df = pd.read_csv(r'E:\\Python\\Python\\Data\\Clean_Data.csv')\n",
    "\n",
    "df = df.set_index('Author')"
   ]
  },
  {
   "cell_type": "markdown",
   "metadata": {},
   "source": [
    "Top 5 chú thích Title được dùng nhiều nhất"
   ]
  },
  {
   "cell_type": "code",
   "execution_count": 3,
   "metadata": {},
   "outputs": [
    {
     "data": {
      "text/plain": [
       "Title\n",
       "doc      394\n",
       "test     367\n",
       "deps     295\n",
       "tools    246\n",
       "src      238\n",
       "Name: count, dtype: int64"
      ]
     },
     "execution_count": 3,
     "metadata": {},
     "output_type": "execute_result"
    }
   ],
   "source": [
    "df['Title'].str.split(':').str[0].value_counts().head(5)"
   ]
  },
  {
   "cell_type": "markdown",
   "metadata": {},
   "source": [
    "Top 5 Title có độ dài lớn nhất :"
   ]
  },
  {
   "cell_type": "code",
   "execution_count": 4,
   "metadata": {},
   "outputs": [
    {
     "data": {
      "text/plain": [
       "Author\n",
       "tmm88         16\n",
       "ggoodman      16\n",
       "debadree25    15\n",
       "pulkit-30     15\n",
       "aleksejaku    15\n",
       "Name: Title, dtype: int64"
      ]
     },
     "execution_count": 4,
     "metadata": {},
     "output_type": "execute_result"
    }
   ],
   "source": [
    "df['Title'].str.split(' ').str.len().sort_values(ascending=False).head(5)"
   ]
  },
  {
   "cell_type": "markdown",
   "metadata": {},
   "source": [
    "Top 5 pull repuests có nhiều Additions nhất"
   ]
  },
  {
   "cell_type": "code",
   "execution_count": 5,
   "metadata": {},
   "outputs": [
    {
     "data": {
      "text/plain": [
       "Author\n",
       "fishel-feng      12536046\n",
       "gaurishhs        12530505\n",
       "imcotton         12523339\n",
       "rafasofizada     12502330\n",
       "shrujalshah28    12420911\n",
       "Name: Additions, dtype: int64"
      ]
     },
     "execution_count": 5,
     "metadata": {},
     "output_type": "execute_result"
    }
   ],
   "source": [
    "df['Additions'].sort_values(ascending=False).head(5)"
   ]
  },
  {
   "cell_type": "markdown",
   "metadata": {},
   "source": [
    "Top 5 pull repuests có nhiều Commits nhất"
   ]
  },
  {
   "cell_type": "code",
   "execution_count": 6,
   "metadata": {},
   "outputs": [
    {
     "data": {
      "text/plain": [
       "Author\n",
       "rluvaton       3660\n",
       "mohd096        3271\n",
       "npm-cli-bot    2694\n",
       "mhdawson       2625\n",
       "luyahan        1553\n",
       "Name: Commits, dtype: int64"
      ]
     },
     "execution_count": 6,
     "metadata": {},
     "output_type": "execute_result"
    }
   ],
   "source": [
    "df['Commits'].sort_values(ascending=False).head(5)"
   ]
  },
  {
   "cell_type": "markdown",
   "metadata": {},
   "source": [
    "Top 5 pull repuests có nhiều Comments nhất"
   ]
  },
  {
   "cell_type": "code",
   "execution_count": 7,
   "metadata": {},
   "outputs": [
    {
     "data": {
      "text/plain": [
       "Author\n",
       "jsumners        187\n",
       "UlisesGascon    117\n",
       "ShogunPanda      82\n",
       "UlisesGascon     80\n",
       "khaosdoctor      76\n",
       "Name: Comments, dtype: int64"
      ]
     },
     "execution_count": 7,
     "metadata": {},
     "output_type": "execute_result"
    }
   ],
   "source": [
    "df['Comments'].sort_values(ascending=False).head(5)"
   ]
  },
  {
   "cell_type": "markdown",
   "metadata": {},
   "source": [
    "Người có hoạt động sôi nổi nhất:"
   ]
  },
  {
   "cell_type": "code",
   "execution_count": 8,
   "metadata": {},
   "outputs": [
    {
     "data": {
      "text/plain": [
       "Author\n",
       "nodejs-github-bot    311\n",
       "aduh95               180\n",
       "anonrig              156\n",
       "joyeecheung          148\n",
       "tniessen             121\n",
       "Name: count, dtype: int64"
      ]
     },
     "execution_count": 8,
     "metadata": {},
     "output_type": "execute_result"
    }
   ],
   "source": [
    "df.index.value_counts().head(5)"
   ]
  },
  {
   "cell_type": "markdown",
   "metadata": {},
   "source": [
    "Người có nhiều Additions nhất "
   ]
  },
  {
   "cell_type": "code",
   "execution_count": 9,
   "metadata": {},
   "outputs": [
    {
     "data": {
      "text/plain": [
       "Author\n",
       "fishel-feng      12536047\n",
       "gaurishhs        12530506\n",
       "imcotton         12523361\n",
       "rafasofizada     12502332\n",
       "shrujalshah28    12420920\n",
       "Name: Additions, dtype: int64"
      ]
     },
     "execution_count": 9,
     "metadata": {},
     "output_type": "execute_result"
    }
   ],
   "source": [
    "group_Author = df.groupby('Author')\n",
    "group_Author['Additions'].sum().sort_values(ascending=False).head(5)"
   ]
  },
  {
   "cell_type": "markdown",
   "metadata": {},
   "source": [
    "Người có nhiều Commits nhất "
   ]
  },
  {
   "cell_type": "code",
   "execution_count": 10,
   "metadata": {},
   "outputs": [
    {
     "data": {
      "text/plain": [
       "Author\n",
       "rluvaton       4092\n",
       "mohd096        3271\n",
       "npm-cli-bot    2831\n",
       "mhdawson       2768\n",
       "targos         1750\n",
       "Name: Commits, dtype: int64"
      ]
     },
     "execution_count": 10,
     "metadata": {},
     "output_type": "execute_result"
    }
   ],
   "source": [
    "group_Author['Commits'].sum().sort_values(ascending=False).head(5)"
   ]
  },
  {
   "cell_type": "markdown",
   "metadata": {},
   "source": [
    "Người có nhiều Comments nhất "
   ]
  },
  {
   "cell_type": "code",
   "execution_count": 11,
   "metadata": {},
   "outputs": [
    {
     "data": {
      "text/plain": [
       "Author\n",
       "anonrig              1627\n",
       "joyeecheung          1422\n",
       "nodejs-github-bot    1345\n",
       "aduh95                964\n",
       "targos                866\n",
       "Name: Comments, dtype: int64"
      ]
     },
     "execution_count": 11,
     "metadata": {},
     "output_type": "execute_result"
    }
   ],
   "source": [
    "group_Author['Comments'].sum().sort_values(ascending=False).head(5)"
   ]
  },
  {
   "cell_type": "markdown",
   "metadata": {},
   "source": [
    "Các trạng thái của pull repuests :"
   ]
  },
  {
   "cell_type": "markdown",
   "metadata": {},
   "source": [
    "Cập nhật(Updated at)"
   ]
  },
  {
   "cell_type": "code",
   "execution_count": 12,
   "metadata": {},
   "outputs": [
    {
     "data": {
      "text/plain": [
       "Updated At\n",
       "2024-05-12 00:00:00+00:00    149\n",
       "2023-11-23 00:00:00+00:00     68\n",
       "2023-08-28 00:00:00+00:00     40\n",
       "2023-09-11 00:00:00+00:00     35\n",
       "2023-11-12 00:00:00+00:00     31\n",
       "                            ... \n",
       "2024-03-03 00:00:00+00:00      0\n",
       "2024-03-02 00:00:00+00:00      0\n",
       "2024-02-25 00:00:00+00:00      0\n",
       "2024-02-24 00:00:00+00:00      0\n",
       "2024-02-09 00:00:00+00:00      0\n",
       "Length: 526, dtype: int64"
      ]
     },
     "execution_count": 12,
     "metadata": {},
     "output_type": "execute_result"
    }
   ],
   "source": [
    "df['Updated At'] = pd.to_datetime(df['Updated At'])\n",
    "\n",
    "df_up = df.set_index('Updated At').resample('D').size().sort_values(ascending= False)\n",
    "\n",
    "df_up\n"
   ]
  },
  {
   "cell_type": "code",
   "execution_count": 13,
   "metadata": {},
   "outputs": [
    {
     "data": {
      "text/plain": [
       "Status\n",
       "Merged    2027\n",
       "Closed    1067\n",
       "Open       158\n",
       "Name: count, dtype: int64"
      ]
     },
     "execution_count": 13,
     "metadata": {},
     "output_type": "execute_result"
    }
   ],
   "source": [
    "df['Status'].value_counts()"
   ]
  },
  {
   "cell_type": "markdown",
   "metadata": {},
   "source": [
    "Top 5 tác giả có pull requests được Merged"
   ]
  },
  {
   "cell_type": "code",
   "execution_count": 14,
   "metadata": {},
   "outputs": [
    {
     "data": {
      "text/plain": [
       "Author\n",
       "nodejs-github-bot    192\n",
       "aduh95               156\n",
       "tniessen             117\n",
       "anonrig               92\n",
       "joyeecheung           85\n",
       "dtype: int64"
      ]
     },
     "execution_count": 14,
     "metadata": {},
     "output_type": "execute_result"
    }
   ],
   "source": [
    "df[df['Status'] == 'Merged'].groupby('Author').size().sort_values(ascending=False).head(5)"
   ]
  },
  {
   "cell_type": "markdown",
   "metadata": {},
   "source": [
    "Top 5  pull requests được Merged nhanh nhất :"
   ]
  },
  {
   "cell_type": "code",
   "execution_count": 15,
   "metadata": {},
   "outputs": [
    {
     "name": "stderr",
     "output_type": "stream",
     "text": [
      "C:\\Users\\Administrator\\AppData\\Local\\Temp\\ipykernel_3604\\1062959844.py:3: SettingWithCopyWarning: \n",
      "A value is trying to be set on a copy of a slice from a DataFrame.\n",
      "Try using .loc[row_indexer,col_indexer] = value instead\n",
      "\n",
      "See the caveats in the documentation: https://pandas.pydata.org/pandas-docs/stable/user_guide/indexing.html#returning-a-view-versus-a-copy\n",
      "  df_mer['Merged At'] = pd.to_datetime(df_mer['Merged At'])\n",
      "C:\\Users\\Administrator\\AppData\\Local\\Temp\\ipykernel_3604\\1062959844.py:4: SettingWithCopyWarning: \n",
      "A value is trying to be set on a copy of a slice from a DataFrame.\n",
      "Try using .loc[row_indexer,col_indexer] = value instead\n",
      "\n",
      "See the caveats in the documentation: https://pandas.pydata.org/pandas-docs/stable/user_guide/indexing.html#returning-a-view-versus-a-copy\n",
      "  df_mer['Time Diffrence'] = df_mer['Merged At'] - df_mer['Created At']\n"
     ]
    },
    {
     "data": {
      "text/html": [
       "<div>\n",
       "<style scoped>\n",
       "    .dataframe tbody tr th:only-of-type {\n",
       "        vertical-align: middle;\n",
       "    }\n",
       "\n",
       "    .dataframe tbody tr th {\n",
       "        vertical-align: top;\n",
       "    }\n",
       "\n",
       "    .dataframe thead th {\n",
       "        text-align: right;\n",
       "    }\n",
       "</style>\n",
       "<table border=\"1\" class=\"dataframe\">\n",
       "  <thead>\n",
       "    <tr style=\"text-align: right;\">\n",
       "      <th></th>\n",
       "      <th>Title</th>\n",
       "      <th>Created At</th>\n",
       "      <th>Updated At</th>\n",
       "      <th>Additions</th>\n",
       "      <th>Commits</th>\n",
       "      <th>Status</th>\n",
       "      <th>Comments</th>\n",
       "      <th>Merged At</th>\n",
       "      <th>Time Diffrence</th>\n",
       "    </tr>\n",
       "    <tr>\n",
       "      <th>Author</th>\n",
       "      <th></th>\n",
       "      <th></th>\n",
       "      <th></th>\n",
       "      <th></th>\n",
       "      <th></th>\n",
       "      <th></th>\n",
       "      <th></th>\n",
       "      <th></th>\n",
       "      <th></th>\n",
       "    </tr>\n",
       "  </thead>\n",
       "  <tbody>\n",
       "    <tr>\n",
       "      <th>H4ad</th>\n",
       "      <td>doc: fix H4ad collaborator sort</td>\n",
       "      <td>2023-10-17 19:23:39+00:00</td>\n",
       "      <td>2023-10-17 19:32:23+00:00</td>\n",
       "      <td>2</td>\n",
       "      <td>1</td>\n",
       "      <td>Merged</td>\n",
       "      <td>2</td>\n",
       "      <td>2023-10-17 19:31:49+00:00</td>\n",
       "      <td>0 days 00:08:10</td>\n",
       "    </tr>\n",
       "    <tr>\n",
       "      <th>Trott</th>\n",
       "      <td>doc: move BethGriggs to regular member</td>\n",
       "      <td>2023-04-28 22:36:45+00:00</td>\n",
       "      <td>2023-04-28 23:37:49+00:00</td>\n",
       "      <td>2</td>\n",
       "      <td>1</td>\n",
       "      <td>Merged</td>\n",
       "      <td>3</td>\n",
       "      <td>2023-04-28 22:45:34+00:00</td>\n",
       "      <td>0 days 00:08:49</td>\n",
       "    </tr>\n",
       "    <tr>\n",
       "      <th>rluvaton</th>\n",
       "      <td>doc: add rluvaton to collaborators</td>\n",
       "      <td>2023-08-17 14:32:45+00:00</td>\n",
       "      <td>2023-08-17 14:46:09+00:00</td>\n",
       "      <td>2</td>\n",
       "      <td>1</td>\n",
       "      <td>Merged</td>\n",
       "      <td>4</td>\n",
       "      <td>2023-08-17 14:45:49+00:00</td>\n",
       "      <td>0 days 00:13:04</td>\n",
       "    </tr>\n",
       "    <tr>\n",
       "      <th>atlowChemi</th>\n",
       "      <td>doc: add atlowChemi to collaborators</td>\n",
       "      <td>2023-07-13 12:52:46+00:00</td>\n",
       "      <td>2023-07-13 13:08:46+00:00</td>\n",
       "      <td>2</td>\n",
       "      <td>1</td>\n",
       "      <td>Merged</td>\n",
       "      <td>4</td>\n",
       "      <td>2023-07-13 13:08:35+00:00</td>\n",
       "      <td>0 days 00:15:49</td>\n",
       "    </tr>\n",
       "    <tr>\n",
       "      <th>cjihrig</th>\n",
       "      <td>doc: add MoLow to the TSC</td>\n",
       "      <td>2023-04-05 21:22:26+00:00</td>\n",
       "      <td>2023-04-05 21:38:53+00:00</td>\n",
       "      <td>2</td>\n",
       "      <td>1</td>\n",
       "      <td>Merged</td>\n",
       "      <td>3</td>\n",
       "      <td>2023-04-05 21:38:46+00:00</td>\n",
       "      <td>0 days 00:16:20</td>\n",
       "    </tr>\n",
       "  </tbody>\n",
       "</table>\n",
       "</div>"
      ],
      "text/plain": [
       "                                             Title                Created At  \\\n",
       "Author                                                                         \n",
       "H4ad               doc: fix H4ad collaborator sort 2023-10-17 19:23:39+00:00   \n",
       "Trott       doc: move BethGriggs to regular member 2023-04-28 22:36:45+00:00   \n",
       "rluvaton        doc: add rluvaton to collaborators 2023-08-17 14:32:45+00:00   \n",
       "atlowChemi    doc: add atlowChemi to collaborators 2023-07-13 12:52:46+00:00   \n",
       "cjihrig                  doc: add MoLow to the TSC 2023-04-05 21:22:26+00:00   \n",
       "\n",
       "                          Updated At  Additions  Commits  Status  Comments  \\\n",
       "Author                                                                       \n",
       "H4ad       2023-10-17 19:32:23+00:00          2        1  Merged         2   \n",
       "Trott      2023-04-28 23:37:49+00:00          2        1  Merged         3   \n",
       "rluvaton   2023-08-17 14:46:09+00:00          2        1  Merged         4   \n",
       "atlowChemi 2023-07-13 13:08:46+00:00          2        1  Merged         4   \n",
       "cjihrig    2023-04-05 21:38:53+00:00          2        1  Merged         3   \n",
       "\n",
       "                           Merged At  Time Diffrence  \n",
       "Author                                                \n",
       "H4ad       2023-10-17 19:31:49+00:00 0 days 00:08:10  \n",
       "Trott      2023-04-28 22:45:34+00:00 0 days 00:08:49  \n",
       "rluvaton   2023-08-17 14:45:49+00:00 0 days 00:13:04  \n",
       "atlowChemi 2023-07-13 13:08:35+00:00 0 days 00:15:49  \n",
       "cjihrig    2023-04-05 21:38:46+00:00 0 days 00:16:20  "
      ]
     },
     "execution_count": 15,
     "metadata": {},
     "output_type": "execute_result"
    }
   ],
   "source": [
    "df['Created At'] = pd.to_datetime(df['Created At'])\n",
    "df_mer = df[df['Merged At'] != '0']\n",
    "df_mer['Merged At'] = pd.to_datetime(df_mer['Merged At'])\n",
    "df_mer['Time Diffrence'] = df_mer['Merged At'] - df_mer['Created At']\n",
    "df_mer.sort_values(by = 'Time Diffrence').head(5)"
   ]
  },
  {
   "cell_type": "markdown",
   "metadata": {},
   "source": [
    "Thời gian trung bình một pull requests được Merged"
   ]
  },
  {
   "cell_type": "code",
   "execution_count": 16,
   "metadata": {},
   "outputs": [
    {
     "data": {
      "text/plain": [
       "count                          2027\n",
       "mean     10 days 21:34:08.148495313\n",
       "std      31 days 06:19:54.786182235\n",
       "min                 0 days 00:08:10\n",
       "25%          2 days 00:07:07.500000\n",
       "50%                 2 days 17:33:49\n",
       "75%                 7 days 10:06:30\n",
       "max               450 days 20:08:42\n",
       "Name: Time Diffrence, dtype: object"
      ]
     },
     "execution_count": 16,
     "metadata": {},
     "output_type": "execute_result"
    }
   ],
   "source": [
    "df_mer['Time Diffrence'].describe()"
   ]
  },
  {
   "cell_type": "markdown",
   "metadata": {},
   "source": [
    "Số lượng các pull requests được tạo theo ngày, tuần, tháng, năm:"
   ]
  },
  {
   "cell_type": "markdown",
   "metadata": {},
   "source": [
    "Theo ngày :"
   ]
  },
  {
   "cell_type": "code",
   "execution_count": 17,
   "metadata": {},
   "outputs": [
    {
     "data": {
      "text/plain": [
       "Created At\n",
       "2023-08-28 00:00:00+00:00    44\n",
       "2023-09-22 00:00:00+00:00    36\n",
       "2023-09-23 00:00:00+00:00    33\n",
       "2023-11-07 00:00:00+00:00    29\n",
       "2023-08-13 00:00:00+00:00    28\n",
       "                             ..\n",
       "2023-12-08 00:00:00+00:00     1\n",
       "2023-06-23 00:00:00+00:00     1\n",
       "2023-12-09 00:00:00+00:00     1\n",
       "2023-04-25 00:00:00+00:00     1\n",
       "2023-01-21 00:00:00+00:00     0\n",
       "Length: 365, dtype: int64"
      ]
     },
     "execution_count": 17,
     "metadata": {},
     "output_type": "execute_result"
    }
   ],
   "source": [
    "df = df.reset_index()\n",
    "df_newindex = df.set_index('Created At')\n",
    "df_newindex.resample('D').size().sort_values(ascending=False)\n"
   ]
  },
  {
   "cell_type": "markdown",
   "metadata": {},
   "source": [
    "Theo tuần :"
   ]
  },
  {
   "cell_type": "code",
   "execution_count": 18,
   "metadata": {},
   "outputs": [
    {
     "data": {
      "text/plain": [
       "Created At\n",
       "2023-09-24 00:00:00+00:00    119\n",
       "2023-10-01 00:00:00+00:00    104\n",
       "2023-10-22 00:00:00+00:00     88\n",
       "2023-09-03 00:00:00+00:00     87\n",
       "2023-11-12 00:00:00+00:00     85\n",
       "2023-10-29 00:00:00+00:00     84\n",
       "2023-11-19 00:00:00+00:00     83\n",
       "2023-02-12 00:00:00+00:00     80\n",
       "2023-02-26 00:00:00+00:00     79\n",
       "2023-09-10 00:00:00+00:00     78\n",
       "2023-04-02 00:00:00+00:00     73\n",
       "2023-02-19 00:00:00+00:00     73\n",
       "2023-08-13 00:00:00+00:00     73\n",
       "2023-04-09 00:00:00+00:00     71\n",
       "2023-08-20 00:00:00+00:00     71\n",
       "2023-05-21 00:00:00+00:00     70\n",
       "2023-12-03 00:00:00+00:00     68\n",
       "2023-04-16 00:00:00+00:00     68\n",
       "2023-05-28 00:00:00+00:00     68\n",
       "2023-05-07 00:00:00+00:00     66\n",
       "2023-03-05 00:00:00+00:00     65\n",
       "2023-02-05 00:00:00+00:00     65\n",
       "2023-04-30 00:00:00+00:00     64\n",
       "2023-01-08 00:00:00+00:00     63\n",
       "2023-10-15 00:00:00+00:00     63\n",
       "2023-01-29 00:00:00+00:00     62\n",
       "2023-05-14 00:00:00+00:00     62\n",
       "2023-04-23 00:00:00+00:00     61\n",
       "2023-09-17 00:00:00+00:00     59\n",
       "2023-03-12 00:00:00+00:00     57\n",
       "2023-03-19 00:00:00+00:00     56\n",
       "2023-06-04 00:00:00+00:00     56\n",
       "2023-03-26 00:00:00+00:00     56\n",
       "2023-11-05 00:00:00+00:00     56\n",
       "2023-10-08 00:00:00+00:00     54\n",
       "2023-11-26 00:00:00+00:00     54\n",
       "2023-12-24 00:00:00+00:00     52\n",
       "2023-07-02 00:00:00+00:00     51\n",
       "2023-08-06 00:00:00+00:00     49\n",
       "2023-07-23 00:00:00+00:00     48\n",
       "2023-07-16 00:00:00+00:00     48\n",
       "2023-01-15 00:00:00+00:00     48\n",
       "2023-06-11 00:00:00+00:00     48\n",
       "2023-01-22 00:00:00+00:00     47\n",
       "2023-07-30 00:00:00+00:00     46\n",
       "2023-12-17 00:00:00+00:00     45\n",
       "2023-07-09 00:00:00+00:00     44\n",
       "2023-12-10 00:00:00+00:00     42\n",
       "2023-08-27 00:00:00+00:00     42\n",
       "2023-06-25 00:00:00+00:00     36\n",
       "2023-12-31 00:00:00+00:00     28\n",
       "2023-06-18 00:00:00+00:00     28\n",
       "2023-01-01 00:00:00+00:00      9\n",
       "dtype: int64"
      ]
     },
     "execution_count": 18,
     "metadata": {},
     "output_type": "execute_result"
    }
   ],
   "source": [
    "df_newindex.resample('W').size().sort_values(ascending=False)"
   ]
  },
  {
   "cell_type": "markdown",
   "metadata": {},
   "source": [
    "Theo tháng :"
   ]
  },
  {
   "cell_type": "code",
   "execution_count": 19,
   "metadata": {},
   "outputs": [
    {
     "data": {
      "text/plain": [
       "Created At\n",
       "2023-09-30 00:00:00+00:00    367\n",
       "2023-10-31 00:00:00+00:00    323\n",
       "2023-11-30 00:00:00+00:00    303\n",
       "2023-08-31 00:00:00+00:00    293\n",
       "2023-02-28 00:00:00+00:00    289\n",
       "2023-05-31 00:00:00+00:00    289\n",
       "2023-04-30 00:00:00+00:00    283\n",
       "2023-03-31 00:00:00+00:00    269\n",
       "2023-01-31 00:00:00+00:00    256\n",
       "2023-07-31 00:00:00+00:00    202\n",
       "2023-12-31 00:00:00+00:00    196\n",
       "2023-06-30 00:00:00+00:00    182\n",
       "dtype: int64"
      ]
     },
     "execution_count": 19,
     "metadata": {},
     "output_type": "execute_result"
    }
   ],
   "source": [
    "df_newindex.resample('M').size().sort_values(ascending=False)"
   ]
  },
  {
   "cell_type": "markdown",
   "metadata": {},
   "source": [
    "Theo năm:"
   ]
  },
  {
   "cell_type": "code",
   "execution_count": 20,
   "metadata": {},
   "outputs": [
    {
     "data": {
      "text/plain": [
       "3252"
      ]
     },
     "execution_count": 20,
     "metadata": {},
     "output_type": "execute_result"
    }
   ],
   "source": [
    "len(df_newindex.index)"
   ]
  },
  {
   "cell_type": "markdown",
   "metadata": {},
   "source": [
    "Tổng Addtions từ các pull requests được tạo trong năm 2023"
   ]
  },
  {
   "cell_type": "code",
   "execution_count": 21,
   "metadata": {},
   "outputs": [
    {
     "data": {
      "text/plain": [
       "92336552"
      ]
     },
     "execution_count": 21,
     "metadata": {},
     "output_type": "execute_result"
    }
   ],
   "source": [
    "df['Additions'].sum()"
   ]
  },
  {
   "cell_type": "markdown",
   "metadata": {},
   "source": [
    "Tổng Commits từ các pull requests được tạo trong năm 2023"
   ]
  },
  {
   "cell_type": "code",
   "execution_count": 22,
   "metadata": {},
   "outputs": [
    {
     "data": {
      "text/plain": [
       "26881"
      ]
     },
     "execution_count": 22,
     "metadata": {},
     "output_type": "execute_result"
    }
   ],
   "source": [
    "df['Commits'].sum()"
   ]
  },
  {
   "cell_type": "markdown",
   "metadata": {},
   "source": [
    "Tổng Comments từ các pull requests được tạo trong năm 2023"
   ]
  },
  {
   "cell_type": "code",
   "execution_count": 23,
   "metadata": {},
   "outputs": [
    {
     "data": {
      "text/plain": [
       "23986"
      ]
     },
     "execution_count": 23,
     "metadata": {},
     "output_type": "execute_result"
    }
   ],
   "source": [
    "df['Comments'].sum()"
   ]
  }
 ],
 "metadata": {
  "kernelspec": {
   "display_name": "base",
   "language": "python",
   "name": "python3"
  },
  "language_info": {
   "codemirror_mode": {
    "name": "ipython",
    "version": 3
   },
   "file_extension": ".py",
   "mimetype": "text/x-python",
   "name": "python",
   "nbconvert_exporter": "python",
   "pygments_lexer": "ipython3",
   "version": "3.11.7"
  }
 },
 "nbformat": 4,
 "nbformat_minor": 2
}
